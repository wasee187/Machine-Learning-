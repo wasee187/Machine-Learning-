{
 "cells": [
  {
   "cell_type": "code",
   "execution_count": 15,
   "id": "aef95c67-8ab7-4987-8eda-1d416e964821",
   "metadata": {},
   "outputs": [
    {
     "name": "stdout",
     "output_type": "stream",
     "text": [
      "x_train = [1. 2.]\n",
      "y_train = [300. 500.]\n",
      "number of training example: 2\n",
      "(x^(1),y^(1)) = (2.0,500.0)\n",
      "The lists are:\n",
      "300.0\n",
      "500.0\n"
     ]
    }
   ],
   "source": [
    "import numpy as np\n",
    "import matplotlib.pyplot as plt\n",
    "#plt.style.use('./deeplearning.mplstyle')\n",
    "x_train = np.array([1.0,2.0])\n",
    "y_train = np.array([300.0,500.0])\n",
    "m = len(x_train)\n",
    "print(f\"x_train = {x_train}\")\n",
    "print(f\"y_train = {y_train}\")\n",
    "print(f\"number of training example: {m}\")\n",
    "\n",
    "i = 1\n",
    "x_i = x_train[i]\n",
    "y_i = y_train[i]\n",
    "print(f\"(x^({i}),y^({i})) = ({x_i},{y_i})\")\n",
    "\n",
    "#model function \n",
    "w = 200\n",
    "b = 100\n",
    "def compute_model_output(x,w,b,m):\n",
    "    f_wb = np.zeros(m)\n",
    "    for i in range(m):\n",
    "        f_wb[i] = w * x[i] + b \n",
    "\n",
    "    return f_wb\n",
    "\n",
    "tmp_f_wb = compute_model_output(x_train, w,b,m)\n",
    "print('The lists are:', *tmp_f_wb, sep='\\n')\n",
    "    "
   ]
  },
  {
   "cell_type": "code",
   "execution_count": null,
   "id": "ddff9da3-8720-478d-b438-9e19b15e0090",
   "metadata": {},
   "outputs": [],
   "source": []
  }
 ],
 "metadata": {
  "kernelspec": {
   "display_name": "Python 3 (ipykernel)",
   "language": "python",
   "name": "python3"
  },
  "language_info": {
   "codemirror_mode": {
    "name": "ipython",
    "version": 3
   },
   "file_extension": ".py",
   "mimetype": "text/x-python",
   "name": "python",
   "nbconvert_exporter": "python",
   "pygments_lexer": "ipython3",
   "version": "3.9.13"
  }
 },
 "nbformat": 4,
 "nbformat_minor": 5
}
